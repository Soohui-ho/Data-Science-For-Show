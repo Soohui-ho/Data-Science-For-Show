{
 "cells": [
  {
   "cell_type": "code",
   "execution_count": 59,
   "id": "262f37de",
   "metadata": {},
   "outputs": [],
   "source": [
    "# Chapter 3 - Multiple Linear Regression (MLR)\n",
    "# ---------------------------------------------\n",
    "# Student: Ho Soo Hui\n",
    "\n",
    "# Import libraries\n",
    "import numpy as np\n",
    "import pandas as pd\n",
    "import matplotlib.pyplot as plt\n",
    "\n",
    "# %matplotlib inline\n",
    "# URL on matplotlib inline: https://stackoverflow.com/questions/43027980/purpose-of-matplotlib-inline\n",
    "\n",
    "import statsmodels.api as sm\n",
    "from statsmodels.formula.api import ols\n",
    "import seaborn as sns\n",
    "\n",
    "from scipy.stats import t\n",
    "import numpy.linalg\n",
    "\n",
    "from statsmodels.stats.outliers_influence import variance_inflation_factor as vif\n",
    "from sklearn.model_selection import train_test_split\n",
    "\n",
    "from scipy.stats import shapiro\n",
    "from scipy.stats import anderson"
   ]
  },
  {
   "cell_type": "code",
   "execution_count": 2,
   "id": "47d7cc02",
   "metadata": {},
   "outputs": [],
   "source": [
    "# Step 1. Explore Data\n",
    "\n",
    "# To import data set in from Excel file as a Pandas DataFrame object, \n",
    "#    type: df = pd.read_excel('Advertising.xlsx')\n",
    "df3a = pd.read_excel('Data/MSS301_Advertising.xlsx')\n"
   ]
  },
  {
   "cell_type": "code",
   "execution_count": 3,
   "id": "454779ce",
   "metadata": {},
   "outputs": [
    {
     "data": {
      "text/plain": [
       "(200, 4)"
      ]
     },
     "execution_count": 3,
     "metadata": {},
     "output_type": "execute_result"
    }
   ],
   "source": [
    "# To know the dimensions of the data matrix\n",
    "df3a.shape"
   ]
  },
  {
   "cell_type": "code",
   "execution_count": 5,
   "id": "ed8e3593",
   "metadata": {},
   "outputs": [
    {
     "data": {
      "text/html": [
       "<div>\n",
       "<style scoped>\n",
       "    .dataframe tbody tr th:only-of-type {\n",
       "        vertical-align: middle;\n",
       "    }\n",
       "\n",
       "    .dataframe tbody tr th {\n",
       "        vertical-align: top;\n",
       "    }\n",
       "\n",
       "    .dataframe thead th {\n",
       "        text-align: right;\n",
       "    }\n",
       "</style>\n",
       "<table border=\"1\" class=\"dataframe\">\n",
       "  <thead>\n",
       "    <tr style=\"text-align: right;\">\n",
       "      <th></th>\n",
       "      <th>TV</th>\n",
       "      <th>radio</th>\n",
       "      <th>newspaper</th>\n",
       "      <th>sales</th>\n",
       "    </tr>\n",
       "  </thead>\n",
       "  <tbody>\n",
       "    <tr>\n",
       "      <th>0</th>\n",
       "      <td>230.1</td>\n",
       "      <td>37.8</td>\n",
       "      <td>69.2</td>\n",
       "      <td>22.1</td>\n",
       "    </tr>\n",
       "    <tr>\n",
       "      <th>1</th>\n",
       "      <td>44.5</td>\n",
       "      <td>39.3</td>\n",
       "      <td>45.1</td>\n",
       "      <td>10.4</td>\n",
       "    </tr>\n",
       "    <tr>\n",
       "      <th>2</th>\n",
       "      <td>17.2</td>\n",
       "      <td>45.9</td>\n",
       "      <td>69.3</td>\n",
       "      <td>9.3</td>\n",
       "    </tr>\n",
       "    <tr>\n",
       "      <th>3</th>\n",
       "      <td>151.5</td>\n",
       "      <td>41.3</td>\n",
       "      <td>58.5</td>\n",
       "      <td>18.5</td>\n",
       "    </tr>\n",
       "    <tr>\n",
       "      <th>4</th>\n",
       "      <td>180.8</td>\n",
       "      <td>10.8</td>\n",
       "      <td>58.4</td>\n",
       "      <td>12.9</td>\n",
       "    </tr>\n",
       "  </tbody>\n",
       "</table>\n",
       "</div>"
      ],
      "text/plain": [
       "      TV  radio  newspaper  sales\n",
       "0  230.1   37.8       69.2   22.1\n",
       "1   44.5   39.3       45.1   10.4\n",
       "2   17.2   45.9       69.3    9.3\n",
       "3  151.5   41.3       58.5   18.5\n",
       "4  180.8   10.8       58.4   12.9"
      ]
     },
     "execution_count": 5,
     "metadata": {},
     "output_type": "execute_result"
    }
   ],
   "source": [
    "# To display the first 5 rows of data set\n",
    "df3a.head()\n"
   ]
  },
  {
   "cell_type": "code",
   "execution_count": 6,
   "id": "617b2ec4",
   "metadata": {},
   "outputs": [
    {
     "data": {
      "text/html": [
       "<div>\n",
       "<style scoped>\n",
       "    .dataframe tbody tr th:only-of-type {\n",
       "        vertical-align: middle;\n",
       "    }\n",
       "\n",
       "    .dataframe tbody tr th {\n",
       "        vertical-align: top;\n",
       "    }\n",
       "\n",
       "    .dataframe thead th {\n",
       "        text-align: right;\n",
       "    }\n",
       "</style>\n",
       "<table border=\"1\" class=\"dataframe\">\n",
       "  <thead>\n",
       "    <tr style=\"text-align: right;\">\n",
       "      <th></th>\n",
       "      <th>TV</th>\n",
       "      <th>radio</th>\n",
       "      <th>newspaper</th>\n",
       "      <th>sales</th>\n",
       "    </tr>\n",
       "  </thead>\n",
       "  <tbody>\n",
       "    <tr>\n",
       "      <th>195</th>\n",
       "      <td>38.2</td>\n",
       "      <td>3.7</td>\n",
       "      <td>13.8</td>\n",
       "      <td>7.6</td>\n",
       "    </tr>\n",
       "    <tr>\n",
       "      <th>196</th>\n",
       "      <td>94.2</td>\n",
       "      <td>4.9</td>\n",
       "      <td>8.1</td>\n",
       "      <td>9.7</td>\n",
       "    </tr>\n",
       "    <tr>\n",
       "      <th>197</th>\n",
       "      <td>177.0</td>\n",
       "      <td>9.3</td>\n",
       "      <td>6.4</td>\n",
       "      <td>12.8</td>\n",
       "    </tr>\n",
       "    <tr>\n",
       "      <th>198</th>\n",
       "      <td>283.6</td>\n",
       "      <td>42.0</td>\n",
       "      <td>66.2</td>\n",
       "      <td>25.5</td>\n",
       "    </tr>\n",
       "    <tr>\n",
       "      <th>199</th>\n",
       "      <td>232.1</td>\n",
       "      <td>8.6</td>\n",
       "      <td>8.7</td>\n",
       "      <td>13.4</td>\n",
       "    </tr>\n",
       "  </tbody>\n",
       "</table>\n",
       "</div>"
      ],
      "text/plain": [
       "        TV  radio  newspaper  sales\n",
       "195   38.2    3.7       13.8    7.6\n",
       "196   94.2    4.9        8.1    9.7\n",
       "197  177.0    9.3        6.4   12.8\n",
       "198  283.6   42.0       66.2   25.5\n",
       "199  232.1    8.6        8.7   13.4"
      ]
     },
     "execution_count": 6,
     "metadata": {},
     "output_type": "execute_result"
    }
   ],
   "source": [
    "# To display the last 5 rows of data set\n",
    "df3a.tail()"
   ]
  },
  {
   "cell_type": "code",
   "execution_count": 10,
   "id": "1fa442f1",
   "metadata": {},
   "outputs": [
    {
     "data": {
      "text/html": [
       "<div>\n",
       "<style scoped>\n",
       "    .dataframe tbody tr th:only-of-type {\n",
       "        vertical-align: middle;\n",
       "    }\n",
       "\n",
       "    .dataframe tbody tr th {\n",
       "        vertical-align: top;\n",
       "    }\n",
       "\n",
       "    .dataframe thead th {\n",
       "        text-align: right;\n",
       "    }\n",
       "</style>\n",
       "<table border=\"1\" class=\"dataframe\">\n",
       "  <thead>\n",
       "    <tr style=\"text-align: right;\">\n",
       "      <th></th>\n",
       "      <th>TV</th>\n",
       "      <th>radio</th>\n",
       "      <th>newspaper</th>\n",
       "      <th>sales</th>\n",
       "    </tr>\n",
       "  </thead>\n",
       "  <tbody>\n",
       "    <tr>\n",
       "      <th>count</th>\n",
       "      <td>200.000000</td>\n",
       "      <td>200.000000</td>\n",
       "      <td>200.000000</td>\n",
       "      <td>200.000000</td>\n",
       "    </tr>\n",
       "    <tr>\n",
       "      <th>mean</th>\n",
       "      <td>147.042500</td>\n",
       "      <td>23.264000</td>\n",
       "      <td>30.554000</td>\n",
       "      <td>14.022500</td>\n",
       "    </tr>\n",
       "    <tr>\n",
       "      <th>std</th>\n",
       "      <td>85.854236</td>\n",
       "      <td>14.846809</td>\n",
       "      <td>21.778621</td>\n",
       "      <td>5.217457</td>\n",
       "    </tr>\n",
       "    <tr>\n",
       "      <th>min</th>\n",
       "      <td>0.700000</td>\n",
       "      <td>0.000000</td>\n",
       "      <td>0.300000</td>\n",
       "      <td>1.600000</td>\n",
       "    </tr>\n",
       "    <tr>\n",
       "      <th>25%</th>\n",
       "      <td>74.375000</td>\n",
       "      <td>9.975000</td>\n",
       "      <td>12.750000</td>\n",
       "      <td>10.375000</td>\n",
       "    </tr>\n",
       "    <tr>\n",
       "      <th>50%</th>\n",
       "      <td>149.750000</td>\n",
       "      <td>22.900000</td>\n",
       "      <td>25.750000</td>\n",
       "      <td>12.900000</td>\n",
       "    </tr>\n",
       "    <tr>\n",
       "      <th>75%</th>\n",
       "      <td>218.825000</td>\n",
       "      <td>36.525000</td>\n",
       "      <td>45.100000</td>\n",
       "      <td>17.400000</td>\n",
       "    </tr>\n",
       "    <tr>\n",
       "      <th>max</th>\n",
       "      <td>296.400000</td>\n",
       "      <td>49.600000</td>\n",
       "      <td>114.000000</td>\n",
       "      <td>27.000000</td>\n",
       "    </tr>\n",
       "  </tbody>\n",
       "</table>\n",
       "</div>"
      ],
      "text/plain": [
       "               TV       radio   newspaper       sales\n",
       "count  200.000000  200.000000  200.000000  200.000000\n",
       "mean   147.042500   23.264000   30.554000   14.022500\n",
       "std     85.854236   14.846809   21.778621    5.217457\n",
       "min      0.700000    0.000000    0.300000    1.600000\n",
       "25%     74.375000    9.975000   12.750000   10.375000\n",
       "50%    149.750000   22.900000   25.750000   12.900000\n",
       "75%    218.825000   36.525000   45.100000   17.400000\n",
       "max    296.400000   49.600000  114.000000   27.000000"
      ]
     },
     "execution_count": 10,
     "metadata": {},
     "output_type": "execute_result"
    }
   ],
   "source": [
    "# To display basic descriptive statistics of the data set\n",
    "df3a.describe()"
   ]
  },
  {
   "cell_type": "code",
   "execution_count": 9,
   "id": "1e90c5b0",
   "metadata": {},
   "outputs": [
    {
     "data": {
      "text/plain": [
       "TV           float64\n",
       "radio        float64\n",
       "newspaper    float64\n",
       "sales        float64\n",
       "dtype: object"
      ]
     },
     "execution_count": 9,
     "metadata": {},
     "output_type": "execute_result"
    }
   ],
   "source": [
    " # To check data types\n",
    "df3a.dtypes"
   ]
  },
  {
   "cell_type": "code",
   "execution_count": 11,
   "id": "15f4b4ed",
   "metadata": {},
   "outputs": [
    {
     "data": {
      "text/html": [
       "<div>\n",
       "<style scoped>\n",
       "    .dataframe tbody tr th:only-of-type {\n",
       "        vertical-align: middle;\n",
       "    }\n",
       "\n",
       "    .dataframe tbody tr th {\n",
       "        vertical-align: top;\n",
       "    }\n",
       "\n",
       "    .dataframe thead th {\n",
       "        text-align: right;\n",
       "    }\n",
       "</style>\n",
       "<table border=\"1\" class=\"dataframe\">\n",
       "  <thead>\n",
       "    <tr style=\"text-align: right;\">\n",
       "      <th></th>\n",
       "      <th>TV</th>\n",
       "      <th>radio</th>\n",
       "      <th>newspaper</th>\n",
       "      <th>sales</th>\n",
       "    </tr>\n",
       "  </thead>\n",
       "  <tbody>\n",
       "    <tr>\n",
       "      <th>TV</th>\n",
       "      <td>1.000000</td>\n",
       "      <td>0.054809</td>\n",
       "      <td>0.056648</td>\n",
       "      <td>0.782224</td>\n",
       "    </tr>\n",
       "    <tr>\n",
       "      <th>radio</th>\n",
       "      <td>0.054809</td>\n",
       "      <td>1.000000</td>\n",
       "      <td>0.354104</td>\n",
       "      <td>0.576223</td>\n",
       "    </tr>\n",
       "    <tr>\n",
       "      <th>newspaper</th>\n",
       "      <td>0.056648</td>\n",
       "      <td>0.354104</td>\n",
       "      <td>1.000000</td>\n",
       "      <td>0.228299</td>\n",
       "    </tr>\n",
       "    <tr>\n",
       "      <th>sales</th>\n",
       "      <td>0.782224</td>\n",
       "      <td>0.576223</td>\n",
       "      <td>0.228299</td>\n",
       "      <td>1.000000</td>\n",
       "    </tr>\n",
       "  </tbody>\n",
       "</table>\n",
       "</div>"
      ],
      "text/plain": [
       "                 TV     radio  newspaper     sales\n",
       "TV         1.000000  0.054809   0.056648  0.782224\n",
       "radio      0.054809  1.000000   0.354104  0.576223\n",
       "newspaper  0.056648  0.354104   1.000000  0.228299\n",
       "sales      0.782224  0.576223   0.228299  1.000000"
      ]
     },
     "execution_count": 11,
     "metadata": {},
     "output_type": "execute_result"
    }
   ],
   "source": [
    "# To generate correlation matrix\n",
    "df3a.corr()"
   ]
  },
  {
   "cell_type": "code",
   "execution_count": 13,
   "id": "b5a17731",
   "metadata": {},
   "outputs": [
    {
     "data": {
      "text/html": [
       "<div>\n",
       "<style scoped>\n",
       "    .dataframe tbody tr th:only-of-type {\n",
       "        vertical-align: middle;\n",
       "    }\n",
       "\n",
       "    .dataframe tbody tr th {\n",
       "        vertical-align: top;\n",
       "    }\n",
       "\n",
       "    .dataframe thead th {\n",
       "        text-align: right;\n",
       "    }\n",
       "</style>\n",
       "<table border=\"1\" class=\"dataframe\">\n",
       "  <thead>\n",
       "    <tr style=\"text-align: right;\">\n",
       "      <th></th>\n",
       "      <th>TV</th>\n",
       "      <th>radio</th>\n",
       "      <th>newspaper</th>\n",
       "      <th>sales</th>\n",
       "    </tr>\n",
       "  </thead>\n",
       "  <tbody>\n",
       "    <tr>\n",
       "      <th>TV</th>\n",
       "      <td>7370.949893</td>\n",
       "      <td>69.862492</td>\n",
       "      <td>105.919452</td>\n",
       "      <td>350.390195</td>\n",
       "    </tr>\n",
       "    <tr>\n",
       "      <th>radio</th>\n",
       "      <td>69.862492</td>\n",
       "      <td>220.427743</td>\n",
       "      <td>114.496979</td>\n",
       "      <td>44.635688</td>\n",
       "    </tr>\n",
       "    <tr>\n",
       "      <th>newspaper</th>\n",
       "      <td>105.919452</td>\n",
       "      <td>114.496979</td>\n",
       "      <td>474.308326</td>\n",
       "      <td>25.941392</td>\n",
       "    </tr>\n",
       "    <tr>\n",
       "      <th>sales</th>\n",
       "      <td>350.390195</td>\n",
       "      <td>44.635688</td>\n",
       "      <td>25.941392</td>\n",
       "      <td>27.221853</td>\n",
       "    </tr>\n",
       "  </tbody>\n",
       "</table>\n",
       "</div>"
      ],
      "text/plain": [
       "                    TV       radio   newspaper       sales\n",
       "TV         7370.949893   69.862492  105.919452  350.390195\n",
       "radio        69.862492  220.427743  114.496979   44.635688\n",
       "newspaper   105.919452  114.496979  474.308326   25.941392\n",
       "sales       350.390195   44.635688   25.941392   27.221853"
      ]
     },
     "execution_count": 13,
     "metadata": {},
     "output_type": "execute_result"
    }
   ],
   "source": [
    "df3a.cov()"
   ]
  },
  {
   "cell_type": "code",
   "execution_count": 14,
   "id": "8d097e9a",
   "metadata": {},
   "outputs": [
    {
     "data": {
      "image/png": "[encoded data removed]",
      "text/plain": [
       "<Figure size 432x288 with 2 Axes>"
      ]
     },
     "metadata": {
      "needs_background": "light"
     },
     "output_type": "display_data"
    }
   ],
   "source": [
    "# To visualise correlation matrix in a heatmap, type: sns.heatmap(df.corr(), annot=True, cmap='coolwarm');\n",
    "# Remark: colorbar can be further customised using cmap. Check out online resources for cmap.\n",
    "sns.heatmap(df3a.corr(), annot=True, cmap='coolwarm');"
   ]
  },
  {
   "cell_type": "code",
   "execution_count": 15,
   "id": "6371ded6",
   "metadata": {},
   "outputs": [
    {
     "data": {
      "image/png": "[encoded data removed]",
      "text/plain": [
       "<Figure size 720x720 with 20 Axes>"
      ]
     },
     "metadata": {
      "needs_background": "light"
     },
     "output_type": "display_data"
    }
   ],
   "source": [
    "# To visualise pairwise relationship using Seaborn pairplot, type: sns.pairplot(df);\n",
    "# Caution: It may take some time to generate a pairplot, especially when number of features is large.\n",
    "sns.pairplot(df3a);"
   ]
  },
  {
   "cell_type": "code",
   "execution_count": 16,
   "id": "a6dd0c27",
   "metadata": {},
   "outputs": [
    {
     "name": "stdout",
     "output_type": "stream",
     "text": [
      "                            OLS Regression Results                            \n",
      "==============================================================================\n",
      "Dep. Variable:                  sales   R-squared:                       0.612\n",
      "Model:                            OLS   Adj. R-squared:                  0.610\n",
      "Method:                 Least Squares   F-statistic:                     312.1\n",
      "Date:                Fri, 08 Jul 2022   Prob (F-statistic):           1.47e-42\n",
      "Time:                        14:51:20   Log-Likelihood:                -519.05\n",
      "No. Observations:                 200   AIC:                             1042.\n",
      "Df Residuals:                     198   BIC:                             1049.\n",
      "Df Model:                           1                                         \n",
      "Covariance Type:            nonrobust                                         \n",
      "==============================================================================\n",
      "                 coef    std err          t      P>|t|      [0.025      0.975]\n",
      "------------------------------------------------------------------------------\n",
      "Intercept      7.0326      0.458     15.360      0.000       6.130       7.935\n",
      "TV             0.0475      0.003     17.668      0.000       0.042       0.053\n",
      "==============================================================================\n",
      "Omnibus:                        0.531   Durbin-Watson:                   1.935\n",
      "Prob(Omnibus):                  0.767   Jarque-Bera (JB):                0.669\n",
      "Skew:                          -0.089   Prob(JB):                        0.716\n",
      "Kurtosis:                       2.779   Cond. No.                         338.\n",
      "==============================================================================\n",
      "\n",
      "Notes:\n",
      "[1] Standard Errors assume that the covariance matrix of the errors is correctly specified.\n",
      "\n",
      "MSE = 10.618841328946218\n"
     ]
    }
   ],
   "source": [
    "# Step 2. Fit Model\n",
    "# Build a SLR model for sales using the predictor TV.\n",
    "\n",
    "slrtv = ols(\"sales ~ TV\", df3a).fit()\n",
    "print(slrtv.summary())\n",
    "print('\\nMSE =', slrtv.mse_resid)\n"
   ]
  },
  {
   "cell_type": "code",
   "execution_count": 17,
   "id": "1a81a287",
   "metadata": {},
   "outputs": [
    {
     "name": "stdout",
     "output_type": "stream",
     "text": [
      "                            OLS Regression Results                            \n",
      "==============================================================================\n",
      "Dep. Variable:                  sales   R-squared:                       0.332\n",
      "Model:                            OLS   Adj. R-squared:                  0.329\n",
      "Method:                 Least Squares   F-statistic:                     98.42\n",
      "Date:                Fri, 08 Jul 2022   Prob (F-statistic):           4.35e-19\n",
      "Time:                        14:52:41   Log-Likelihood:                -573.34\n",
      "No. Observations:                 200   AIC:                             1151.\n",
      "Df Residuals:                     198   BIC:                             1157.\n",
      "Df Model:                           1                                         \n",
      "Covariance Type:            nonrobust                                         \n",
      "==============================================================================\n",
      "                 coef    std err          t      P>|t|      [0.025      0.975]\n",
      "------------------------------------------------------------------------------\n",
      "Intercept      9.3116      0.563     16.542      0.000       8.202      10.422\n",
      "radio          0.2025      0.020      9.921      0.000       0.162       0.243\n",
      "==============================================================================\n",
      "Omnibus:                       19.358   Durbin-Watson:                   1.946\n",
      "Prob(Omnibus):                  0.000   Jarque-Bera (JB):               21.910\n",
      "Skew:                          -0.764   Prob(JB):                     1.75e-05\n",
      "Kurtosis:                       3.544   Cond. No.                         51.4\n",
      "==============================================================================\n",
      "\n",
      "Notes:\n",
      "[1] Standard Errors assume that the covariance matrix of the errors is correctly specified.\n",
      "\n",
      "MSE = 18.275149237500443\n"
     ]
    }
   ],
   "source": [
    "\n",
    "# Build a SLR model for sales using the predictor radio.\n",
    "slrradio = ols(\"sales ~ radio\", df3a).fit()\n",
    "print(slrradio.summary())\n",
    "print('\\nMSE =', slrradio.mse_resid)"
   ]
  },
  {
   "cell_type": "code",
   "execution_count": 18,
   "id": "46aab57d",
   "metadata": {},
   "outputs": [
    {
     "name": "stdout",
     "output_type": "stream",
     "text": [
      "                            OLS Regression Results                            \n",
      "==============================================================================\n",
      "Dep. Variable:                  sales   R-squared:                       0.052\n",
      "Model:                            OLS   Adj. R-squared:                  0.047\n",
      "Method:                 Least Squares   F-statistic:                     10.89\n",
      "Date:                Fri, 08 Jul 2022   Prob (F-statistic):            0.00115\n",
      "Time:                        14:53:41   Log-Likelihood:                -608.34\n",
      "No. Observations:                 200   AIC:                             1221.\n",
      "Df Residuals:                     198   BIC:                             1227.\n",
      "Df Model:                           1                                         \n",
      "Covariance Type:            nonrobust                                         \n",
      "==============================================================================\n",
      "                 coef    std err          t      P>|t|      [0.025      0.975]\n",
      "------------------------------------------------------------------------------\n",
      "Intercept     12.3514      0.621     19.876      0.000      11.126      13.577\n",
      "newspaper      0.0547      0.017      3.300      0.001       0.022       0.087\n",
      "==============================================================================\n",
      "Omnibus:                        6.231   Durbin-Watson:                   1.983\n",
      "Prob(Omnibus):                  0.044   Jarque-Bera (JB):                5.483\n",
      "Skew:                           0.330   Prob(JB):                       0.0645\n",
      "Kurtosis:                       2.527   Cond. No.                         64.7\n",
      "==============================================================================\n",
      "\n",
      "Notes:\n",
      "[1] Standard Errors assume that the covariance matrix of the errors is correctly specified.\n",
      "\n",
      "MSE = 25.933356283393632\n"
     ]
    }
   ],
   "source": [
    "# Build a SLR model for sales using the predictor newspapers.\n",
    "slrnews = ols(\"sales ~ newspaper\", df3a).fit()\n",
    "print(slrnews.summary())\n",
    "print('\\nMSE =', slrnews.mse_resid)"
   ]
  },
  {
   "cell_type": "code",
   "execution_count": 22,
   "id": "ee6bc5c1",
   "metadata": {},
   "outputs": [
    {
     "name": "stdout",
     "output_type": "stream",
     "text": [
      "                            OLS Regression Results                            \n",
      "==============================================================================\n",
      "Dep. Variable:                  sales   R-squared:                       0.897\n",
      "Model:                            OLS   Adj. R-squared:                  0.896\n",
      "Method:                 Least Squares   F-statistic:                     570.3\n",
      "Date:                Fri, 08 Jul 2022   Prob (F-statistic):           1.58e-96\n",
      "Time:                        15:07:42   Log-Likelihood:                -386.18\n",
      "No. Observations:                 200   AIC:                             780.4\n",
      "Df Residuals:                     196   BIC:                             793.6\n",
      "Df Model:                           3                                         \n",
      "Covariance Type:            nonrobust                                         \n",
      "==============================================================================\n",
      "                 coef    std err          t      P>|t|      [0.025      0.975]\n",
      "------------------------------------------------------------------------------\n",
      "Intercept      2.9389      0.312      9.422      0.000       2.324       3.554\n",
      "TV             0.0458      0.001     32.809      0.000       0.043       0.049\n",
      "radio          0.1885      0.009     21.893      0.000       0.172       0.206\n",
      "newspaper     -0.0010      0.006     -0.177      0.860      -0.013       0.011\n",
      "==============================================================================\n",
      "Omnibus:                       60.414   Durbin-Watson:                   2.084\n",
      "Prob(Omnibus):                  0.000   Jarque-Bera (JB):              151.241\n",
      "Skew:                          -1.327   Prob(JB):                     1.44e-33\n",
      "Kurtosis:                       6.332   Cond. No.                         454.\n",
      "==============================================================================\n",
      "\n",
      "Notes:\n",
      "[1] Standard Errors assume that the covariance matrix of the errors is correctly specified.\n",
      "\n",
      "MSE = 2.8409452188887103\n"
     ]
    }
   ],
   "source": [
    "# Build a full MLR model for sales using all the predictors.\n",
    "\n",
    "mlrfull = ols(\"sales ~ TV + radio + newspaper\", df3a).fit()\n",
    "print(mlrfull.summary())\n",
    "print('\\nMSE =', mlrfull.mse_resid)"
   ]
  },
  {
   "cell_type": "code",
   "execution_count": 23,
   "id": "3641d655",
   "metadata": {},
   "outputs": [
    {
     "data": {
      "text/plain": [
       "0.8972106381789522"
      ]
     },
     "execution_count": 23,
     "metadata": {},
     "output_type": "execute_result"
    }
   ],
   "source": [
    "mlrfull.rsquared"
   ]
  },
  {
   "cell_type": "code",
   "execution_count": 24,
   "id": "b91c5c6c",
   "metadata": {},
   "outputs": [
    {
     "data": {
      "text/plain": [
       "0.8956373316204668"
      ]
     },
     "execution_count": 24,
     "metadata": {},
     "output_type": "execute_result"
    }
   ],
   "source": [
    "mlrfull.rsquared_adj"
   ]
  },
  {
   "cell_type": "code",
   "execution_count": 25,
   "id": "ae0c5584",
   "metadata": {},
   "outputs": [
    {
     "data": {
      "text/plain": [
       "1.575227256092437e-96"
      ]
     },
     "execution_count": 25,
     "metadata": {},
     "output_type": "execute_result"
    }
   ],
   "source": [
    "mlrfull.f_pvalue"
   ]
  },
  {
   "cell_type": "code",
   "execution_count": 26,
   "id": "7fc29e1b",
   "metadata": {},
   "outputs": [
    {
     "data": {
      "text/plain": [
       "Intercept    1.267295e-17\n",
       "TV           1.509960e-81\n",
       "radio        1.505339e-54\n",
       "newspaper    8.599151e-01\n",
       "dtype: float64"
      ]
     },
     "execution_count": 26,
     "metadata": {},
     "output_type": "execute_result"
    }
   ],
   "source": [
    "mlrfull.pvalues"
   ]
  },
  {
   "cell_type": "code",
   "execution_count": null,
   "id": "0ceab3e8",
   "metadata": {},
   "outputs": [],
   "source": [
    "# Find beta_hat using the least square estimator formula.\n",
    "\n",
    "beta_hat = np.linalg.inv(X.T@X)@X.T@y\n",
    "beta_hat"
   ]
  },
  {
   "cell_type": "code",
   "execution_count": 27,
   "id": "1475f0e1",
   "metadata": {},
   "outputs": [
    {
     "data": {
      "text/plain": [
       "Intercept    2.938889\n",
       "TV           0.045765\n",
       "radio        0.188530\n",
       "newspaper   -0.001037\n",
       "dtype: float64"
      ]
     },
     "execution_count": 27,
     "metadata": {},
     "output_type": "execute_result"
    }
   ],
   "source": [
    "# Verify that the coefficients from ols output agree with beta_hat.\n",
    "\n",
    "mlrfull.params"
   ]
  },
  {
   "cell_type": "code",
   "execution_count": 28,
   "id": "9fb1786b",
   "metadata": {},
   "outputs": [
    {
     "data": {
      "text/html": [
       "<div>\n",
       "<style scoped>\n",
       "    .dataframe tbody tr th:only-of-type {\n",
       "        vertical-align: middle;\n",
       "    }\n",
       "\n",
       "    .dataframe tbody tr th {\n",
       "        vertical-align: top;\n",
       "    }\n",
       "\n",
       "    .dataframe thead th {\n",
       "        text-align: right;\n",
       "    }\n",
       "</style>\n",
       "<table border=\"1\" class=\"dataframe\">\n",
       "  <thead>\n",
       "    <tr style=\"text-align: right;\">\n",
       "      <th></th>\n",
       "      <th>TV</th>\n",
       "      <th>radio</th>\n",
       "      <th>newspaper</th>\n",
       "    </tr>\n",
       "  </thead>\n",
       "  <tbody>\n",
       "    <tr>\n",
       "      <th>0</th>\n",
       "      <td>100</td>\n",
       "      <td>10</td>\n",
       "      <td>50</td>\n",
       "    </tr>\n",
       "  </tbody>\n",
       "</table>\n",
       "</div>"
      ],
      "text/plain": [
       "    TV  radio  newspaper\n",
       "0  100     10         50"
      ]
     },
     "execution_count": 28,
     "metadata": {},
     "output_type": "execute_result"
    }
   ],
   "source": [
    "# Step 4: Deploy Mode\n",
    "\n",
    "# First create a dataframe for the new observation.  \n",
    "\n",
    "x0 = pd.DataFrame(dict({'TV':[100],'radio':[10],'newspaper':[50]}))\n",
    "x0"
   ]
  },
  {
   "cell_type": "code",
   "execution_count": 30,
   "id": "4aa89265",
   "metadata": {},
   "outputs": [
    {
     "data": {
      "text/plain": [
       "0    9.348779\n",
       "dtype: float64"
      ]
     },
     "execution_count": 30,
     "metadata": {},
     "output_type": "execute_result"
    }
   ],
   "source": [
    "# For point prediction\n",
    "\n",
    "mlrfull.predict(x0)\n"
   ]
  },
  {
   "cell_type": "code",
   "execution_count": 32,
   "id": "4f220049",
   "metadata": {},
   "outputs": [
    {
     "data": {
      "text/html": [
       "<div>\n",
       "<style scoped>\n",
       "    .dataframe tbody tr th:only-of-type {\n",
       "        vertical-align: middle;\n",
       "    }\n",
       "\n",
       "    .dataframe tbody tr th {\n",
       "        vertical-align: top;\n",
       "    }\n",
       "\n",
       "    .dataframe thead th {\n",
       "        text-align: right;\n",
       "    }\n",
       "</style>\n",
       "<table border=\"1\" class=\"dataframe\">\n",
       "  <thead>\n",
       "    <tr style=\"text-align: right;\">\n",
       "      <th></th>\n",
       "      <th>mean</th>\n",
       "      <th>mean_se</th>\n",
       "      <th>mean_ci_lower</th>\n",
       "      <th>mean_ci_upper</th>\n",
       "      <th>obs_ci_lower</th>\n",
       "      <th>obs_ci_upper</th>\n",
       "    </tr>\n",
       "  </thead>\n",
       "  <tbody>\n",
       "    <tr>\n",
       "      <th>0</th>\n",
       "      <td>9.348779</td>\n",
       "      <td>0.231977</td>\n",
       "      <td>8.891288</td>\n",
       "      <td>9.806271</td>\n",
       "      <td>5.99338</td>\n",
       "      <td>12.704179</td>\n",
       "    </tr>\n",
       "  </tbody>\n",
       "</table>\n",
       "</div>"
      ],
      "text/plain": [
       "       mean   mean_se  mean_ci_lower  mean_ci_upper  obs_ci_lower  \\\n",
       "0  9.348779  0.231977       8.891288       9.806271       5.99338   \n",
       "\n",
       "   obs_ci_upper  \n",
       "0     12.704179  "
      ]
     },
     "execution_count": 32,
     "metadata": {},
     "output_type": "execute_result"
    }
   ],
   "source": [
    "# For point and interval prediction\n",
    "mlrfull.get_prediction(x0).summary_frame(alpha=0.05)"
   ]
  },
  {
   "cell_type": "code",
   "execution_count": 34,
   "id": "7ee3b655",
   "metadata": {},
   "outputs": [],
   "source": [
    "# Import Advertising data set in Excel format.\n",
    "# Type your code here:  \n",
    "# df3a = pd.read_excel('Data/MSS301_Advertising.xlsx')\n",
    "\n",
    "# Fit a full MLR model on training data.\n",
    "# Type your code here:\n",
    "mlrfull = ols(\"sales ~ TV + radio + newspaper\", df3a).fit()"
   ]
  },
  {
   "cell_type": "code",
   "execution_count": 35,
   "id": "af7e8db8",
   "metadata": {},
   "outputs": [],
   "source": [
    "res32 = mlrfull.resid"
   ]
  },
  {
   "cell_type": "code",
   "execution_count": 44,
   "id": "91de11df",
   "metadata": {},
   "outputs": [
    {
     "data": {
      "image/png": "[encoded data removed]",
      "text/plain": [
       "<Figure size 432x288 with 1 Axes>"
      ]
     },
     "metadata": {
      "needs_background": "light"
     },
     "output_type": "display_data"
    }
   ],
   "source": [
    "# Check whether residuals are normally distributed visually in a histogram.\n",
    "plt.hist(res32)\n",
    "plt.title('Histogram of Residuals');"
   ]
  },
  {
   "cell_type": "code",
   "execution_count": 36,
   "id": "cb8c6c1d",
   "metadata": {},
   "outputs": [
    {
     "name": "stderr",
     "output_type": "stream",
     "text": [
      "C:\\Users\\user\\anaconda3\\lib\\site-packages\\seaborn\\distributions.py:2619: FutureWarning: `distplot` is a deprecated function and will be removed in a future version. Please adapt your code to use either `displot` (a figure-level function with similar flexibility) or `histplot` (an axes-level function for histograms).\n",
      "  warnings.warn(msg, FutureWarning)\n"
     ]
    },
    {
     "data": {
      "image/png": "[encoded data removed]",
      "text/plain": [
       "<Figure size 432x288 with 1 Axes>"
      ]
     },
     "metadata": {
      "needs_background": "light"
     },
     "output_type": "display_data"
    }
   ],
   "source": [
    "# Alternatively, use a distribution plot which is a histogram with a smooth curve fitted to it.\n",
    "# Type: sns.distplot(residname);\n",
    "\n",
    "sns.distplot(res32);  \n",
    "plt.title('Histogram of Residuals')\n",
    "plt.ylabel('Density')\n",
    "plt.xlabel('Residuals');"
   ]
  },
  {
   "cell_type": "code",
   "execution_count": 37,
   "id": "09e8b083",
   "metadata": {},
   "outputs": [
    {
     "name": "stderr",
     "output_type": "stream",
     "text": [
      "C:\\Users\\user\\anaconda3\\lib\\site-packages\\statsmodels\\graphics\\gofplots.py:993: UserWarning: marker is redundantly defined by the 'marker' keyword argument and the fmt string \"bo\" (-> marker='o'). The keyword argument will take precedence.\n",
      "  ax.plot(x, y, fmt, **plot_style)\n"
     ]
    },
    {
     "data": {
      "image/png": "[encoded data removed]",
      "text/plain": [
       "<Figure size 432x288 with 1 Axes>"
      ]
     },
     "metadata": {
      "needs_background": "light"
     },
     "output_type": "display_data"
    }
   ],
   "source": [
    "# Construct a QQ plot of residuals. Type: sm.qqplot(residname, line='s');\n",
    "\n",
    "sm.qqplot(res32, line='s');"
   ]
  },
  {
   "cell_type": "code",
   "execution_count": 52,
   "id": "cdd97ff8",
   "metadata": {},
   "outputs": [
    {
     "name": "stdout",
     "output_type": "stream",
     "text": [
      "                            OLS Regression Results                            \n",
      "==============================================================================\n",
      "Dep. Variable:                  sales   R-squared:                       0.897\n",
      "Model:                            OLS   Adj. R-squared:                  0.896\n",
      "Method:                 Least Squares   F-statistic:                     570.3\n",
      "Date:                Thu, 14 Jul 2022   Prob (F-statistic):           1.58e-96\n",
      "Time:                        10:02:42   Log-Likelihood:                -386.18\n",
      "No. Observations:                 200   AIC:                             780.4\n",
      "Df Residuals:                     196   BIC:                             793.6\n",
      "Df Model:                           3                                         \n",
      "Covariance Type:            nonrobust                                         \n",
      "==============================================================================\n",
      "                 coef    std err          t      P>|t|      [0.025      0.975]\n",
      "------------------------------------------------------------------------------\n",
      "Intercept      2.9389      0.312      9.422      0.000       2.324       3.554\n",
      "TV             0.0458      0.001     32.809      0.000       0.043       0.049\n",
      "radio          0.1885      0.009     21.893      0.000       0.172       0.206\n",
      "newspaper     -0.0010      0.006     -0.177      0.860      -0.013       0.011\n",
      "==============================================================================\n",
      "Omnibus:                       60.414   Durbin-Watson:                   2.084\n",
      "Prob(Omnibus):                  0.000   Jarque-Bera (JB):              151.241\n",
      "Skew:                          -1.327   Prob(JB):                     1.44e-33\n",
      "Kurtosis:                       6.332   Cond. No.                         454.\n",
      "==============================================================================\n",
      "\n",
      "Notes:\n",
      "[1] Standard Errors assume that the covariance matrix of the errors is correctly specified.\n"
     ]
    }
   ],
   "source": [
    "# To view a summary of the SLR model built, type: print(modelname.summary())\n",
    "print(mlrfull.summary())"
   ]
  },
  {
   "cell_type": "code",
   "execution_count": 41,
   "id": "3133a4e9",
   "metadata": {},
   "outputs": [
    {
     "data": {
      "text/plain": [
       "(151.2414204760394,\n",
       " 1.4399347942384512e-33,\n",
       " -1.3273536543621278,\n",
       " 6.3318912890625265)"
      ]
     },
     "execution_count": 41,
     "metadata": {},
     "output_type": "execute_result"
    }
   ],
   "source": [
    "# To perform the Jarque-Bera test on residuals, type: sm.stats.jarque_bera(residname)\n",
    "# The function returns: JB test statistic, p-value, estimated skewness, estimated kurtosis\n",
    "sm.stats.jarque_bera(res32)\n",
    "\n",
    "# result line 1 JB test statistics\n",
    "# line 2 is p-value for JB test\n",
    "# line 3 is estimated skewness\n",
    "# line 4 is est kurtosis\n",
    "\n",
    "# can get from summary as well\n"
   ]
  },
  {
   "cell_type": "code",
   "execution_count": 42,
   "id": "25ccd03f",
   "metadata": {},
   "outputs": [
    {
     "data": {
      "text/plain": [
       "NormaltestResult(statistic=60.41395945525566, pvalue=7.608085583221206e-14)"
      ]
     },
     "execution_count": 42,
     "metadata": {},
     "output_type": "execute_result"
    }
   ],
   "source": [
    "# To perform the Omnibus test on residuals, type: sm.stats.omni_normtest(residname)\n",
    "sm.stats.omni_normtest(res32)\n",
    "\n",
    "# can get from summary as well"
   ]
  },
  {
   "cell_type": "code",
   "execution_count": 46,
   "id": "cb8d88a3",
   "metadata": {},
   "outputs": [
    {
     "data": {
      "text/plain": [
       "ShapiroResult(statistic=0.9176644086837769, pvalue=3.938041004403203e-09)"
      ]
     },
     "execution_count": 46,
     "metadata": {},
     "output_type": "execute_result"
    }
   ],
   "source": [
    "# Conduct Shapiro-Wilk normality test. The function returns test statistics and P-value.\n",
    "\n",
    "from scipy.stats import shapiro\n",
    "shapiro(res32)"
   ]
  },
  {
   "cell_type": "code",
   "execution_count": 47,
   "id": "c6f22e7c",
   "metadata": {},
   "outputs": [
    {
     "data": {
      "text/plain": [
       "AndersonResult(statistic=3.7020094793051044, critical_values=array([0.565, 0.644, 0.772, 0.901, 1.071]), significance_level=array([15. , 10. ,  5. ,  2.5,  1. ]))"
      ]
     },
     "execution_count": 47,
     "metadata": {},
     "output_type": "execute_result"
    }
   ],
   "source": [
    "# Two ways to to conduct Anderson-Darling normality test\n",
    "# One uses the scipy library, and one uses the statsmodel library\n",
    "# scipy: returns test statistic and critical values. Reject H0 if test statistic > critical value\n",
    "# statsmodel: returns test statistics and P-value\n",
    "\n",
    "# Method 1\n",
    "from scipy.stats import anderson\n",
    "anderson(res32)\n",
    "\n",
    "# Reject H0 if test statistics value > critical value\n",
    "# because it is right-tailed test\n",
    "\n",
    "# based on significance_level_array 5% location which is at\n",
    "# location 3 which is 0.772\n",
    "# this case is to reject H0"
   ]
  },
  {
   "cell_type": "code",
   "execution_count": 48,
   "id": "1e831fe6",
   "metadata": {},
   "outputs": [
    {
     "data": {
      "text/plain": [
       "(3.7020094793051044, 2.8823454454317903e-09)"
      ]
     },
     "execution_count": 48,
     "metadata": {},
     "output_type": "execute_result"
    }
   ],
   "source": [
    "# Method 2\n",
    "sm.stats.normal_ad(res32)\n",
    "# first value is computed test statistics value, second value is p-value"
   ]
  },
  {
   "cell_type": "code",
   "execution_count": 60,
   "id": "16a12c32",
   "metadata": {},
   "outputs": [
    {
     "data": {
      "image/png": "[encoded data removed]",
      "text/plain": [
       "<Figure size 432x288 with 1 Axes>"
      ]
     },
     "metadata": {
      "needs_background": "light"
     },
     "output_type": "display_data"
    }
   ],
   "source": [
    "# Plot residuals vs fitted values to check for homoscedasticity.  \n",
    "# Either, type: sns.residplot(modelname.fittedvalues, residname);\n",
    "# Or, type: plt.plot(modelname.fittedvalues, residname, 'o');\n",
    "sns.residplot(mlrfull.fittedvalues, res32)\n",
    "plt.xlabel('Fitted values')\n",
    "plt.ylabel('Residuals')\n",
    "plt.title ('Residual Plot');"
   ]
  },
  {
   "cell_type": "code",
   "execution_count": 61,
   "id": "b6f10c86",
   "metadata": {},
   "outputs": [
    {
     "data": {
      "image/png": "[encoded data removed]",
      "text/plain": [
       "<Figure size 432x288 with 1 Axes>"
      ]
     },
     "metadata": {
      "needs_background": "light"
     },
     "output_type": "display_data"
    }
   ],
   "source": [
    "plt.plot(mlrfull.fittedvalues, res32, 'o')\n",
    "plt.xlabel('Fitted values')\n",
    "plt.ylabel('Residuals')\n",
    "plt.title ('Residual Plot');"
   ]
  },
  {
   "cell_type": "code",
   "execution_count": 51,
   "id": "59994123",
   "metadata": {},
   "outputs": [
    {
     "data": {
      "text/plain": [
       "(5.1328723532856335, 0.16232215845412137, 1.7209042102916001, 0.16399908905607)"
      ]
     },
     "execution_count": 51,
     "metadata": {},
     "output_type": "execute_result"
    }
   ],
   "source": [
    "# Perform the Breusch-Pagan test on residuals. Type: sm.stats.het_breuschpagan(residname, modelname.model.exog)\n",
    "# The function returns: Lagrange multiplier statistic, p-value, F-value, F p-value\n",
    "\n",
    "sm.stats.het_breuschpagan(res32, mlrfull.model.exog)\n"
   ]
  },
  {
   "cell_type": "code",
   "execution_count": 62,
   "id": "55143c99",
   "metadata": {},
   "outputs": [
    {
     "data": {
      "text/plain": [
       "array([[  1. , 230.1,  37.8,  69.2],\n",
       "       [  1. ,  44.5,  39.3,  45.1],\n",
       "       [  1. ,  17.2,  45.9,  69.3],\n",
       "       [  1. , 151.5,  41.3,  58.5],\n",
       "       [  1. , 180.8,  10.8,  58.4],\n",
       "       [  1. ,   8.7,  48.9,  75. ],\n",
       "       [  1. ,  57.5,  32.8,  23.5],\n",
       "       [  1. , 120.2,  19.6,  11.6],\n",
       "       [  1. ,   8.6,   2.1,   1. ],\n",
       "       [  1. , 199.8,   2.6,  21.2],\n",
       "       [  1. ,  66.1,   5.8,  24.2],\n",
       "       [  1. , 214.7,  24. ,   4. ],\n",
       "       [  1. ,  23.8,  35.1,  65.9],\n",
       "       [  1. ,  97.5,   7.6,   7.2],\n",
       "       [  1. , 204.1,  32.9,  46. ],\n",
       "       [  1. , 195.4,  47.7,  52.9],\n",
       "       [  1. ,  67.8,  36.6, 114. ],\n",
       "       [  1. , 281.4,  39.6,  55.8],\n",
       "       [  1. ,  69.2,  20.5,  18.3],\n",
       "       [  1. , 147.3,  23.9,  19.1],\n",
       "       [  1. , 218.4,  27.7,  53.4],\n",
       "       [  1. , 237.4,   5.1,  23.5],\n",
       "       [  1. ,  13.2,  15.9,  49.6],\n",
       "       [  1. , 228.3,  16.9,  26.2],\n",
       "       [  1. ,  62.3,  12.6,  18.3],\n",
       "       [  1. , 262.9,   3.5,  19.5],\n",
       "       [  1. , 142.9,  29.3,  12.6],\n",
       "       [  1. , 240.1,  16.7,  22.9],\n",
       "       [  1. , 248.8,  27.1,  22.9],\n",
       "       [  1. ,  70.6,  16. ,  40.8],\n",
       "       [  1. , 292.9,  28.3,  43.2],\n",
       "       [  1. , 112.9,  17.4,  38.6],\n",
       "       [  1. ,  97.2,   1.5,  30. ],\n",
       "       [  1. , 265.6,  20. ,   0.3],\n",
       "       [  1. ,  95.7,   1.4,   7.4],\n",
       "       [  1. , 290.7,   4.1,   8.5],\n",
       "       [  1. , 266.9,  43.8,   5. ],\n",
       "       [  1. ,  74.7,  49.4,  45.7],\n",
       "       [  1. ,  43.1,  26.7,  35.1],\n",
       "       [  1. , 228. ,  37.7,  32. ],\n",
       "       [  1. , 202.5,  22.3,  31.6],\n",
       "       [  1. , 177. ,  33.4,  38.7],\n",
       "       [  1. , 293.6,  27.7,   1.8],\n",
       "       [  1. , 206.9,   8.4,  26.4],\n",
       "       [  1. ,  25.1,  25.7,  43.3],\n",
       "       [  1. , 175.1,  22.5,  31.5],\n",
       "       [  1. ,  89.7,   9.9,  35.7],\n",
       "       [  1. , 239.9,  41.5,  18.5],\n",
       "       [  1. , 227.2,  15.8,  49.9],\n",
       "       [  1. ,  66.9,  11.7,  36.8],\n",
       "       [  1. , 199.8,   3.1,  34.6],\n",
       "       [  1. , 100.4,   9.6,   3.6],\n",
       "       [  1. , 216.4,  41.7,  39.6],\n",
       "       [  1. , 182.6,  46.2,  58.7],\n",
       "       [  1. , 262.7,  28.8,  15.9],\n",
       "       [  1. , 198.9,  49.4,  60. ],\n",
       "       [  1. ,   7.3,  28.1,  41.4],\n",
       "       [  1. , 136.2,  19.2,  16.6],\n",
       "       [  1. , 210.8,  49.6,  37.7],\n",
       "       [  1. , 210.7,  29.5,   9.3],\n",
       "       [  1. ,  53.5,   2. ,  21.4],\n",
       "       [  1. , 261.3,  42.7,  54.7],\n",
       "       [  1. , 239.3,  15.5,  27.3],\n",
       "       [  1. , 102.7,  29.6,   8.4],\n",
       "       [  1. , 131.1,  42.8,  28.9],\n",
       "       [  1. ,  69. ,   9.3,   0.9],\n",
       "       [  1. ,  31.5,  24.6,   2.2],\n",
       "       [  1. , 139.3,  14.5,  10.2],\n",
       "       [  1. , 237.4,  27.5,  11. ],\n",
       "       [  1. , 216.8,  43.9,  27.2],\n",
       "       [  1. , 199.1,  30.6,  38.7],\n",
       "       [  1. , 109.8,  14.3,  31.7],\n",
       "       [  1. ,  26.8,  33. ,  19.3],\n",
       "       [  1. , 129.4,   5.7,  31.3],\n",
       "       [  1. , 213.4,  24.6,  13.1],\n",
       "       [  1. ,  16.9,  43.7,  89.4],\n",
       "       [  1. ,  27.5,   1.6,  20.7],\n",
       "       [  1. , 120.5,  28.5,  14.2],\n",
       "       [  1. ,   5.4,  29.9,   9.4],\n",
       "       [  1. , 116. ,   7.7,  23.1],\n",
       "       [  1. ,  76.4,  26.7,  22.3],\n",
       "       [  1. , 239.8,   4.1,  36.9],\n",
       "       [  1. ,  75.3,  20.3,  32.5],\n",
       "       [  1. ,  68.4,  44.5,  35.6],\n",
       "       [  1. , 213.5,  43. ,  33.8],\n",
       "       [  1. , 193.2,  18.4,  65.7],\n",
       "       [  1. ,  76.3,  27.5,  16. ],\n",
       "       [  1. , 110.7,  40.6,  63.2],\n",
       "       [  1. ,  88.3,  25.5,  73.4],\n",
       "       [  1. , 109.8,  47.8,  51.4],\n",
       "       [  1. , 134.3,   4.9,   9.3],\n",
       "       [  1. ,  28.6,   1.5,  33. ],\n",
       "       [  1. , 217.7,  33.5,  59. ],\n",
       "       [  1. , 250.9,  36.5,  72.3],\n",
       "       [  1. , 107.4,  14. ,  10.9],\n",
       "       [  1. , 163.3,  31.6,  52.9],\n",
       "       [  1. , 197.6,   3.5,   5.9],\n",
       "       [  1. , 184.9,  21. ,  22. ],\n",
       "       [  1. , 289.7,  42.3,  51.2],\n",
       "       [  1. , 135.2,  41.7,  45.9],\n",
       "       [  1. , 222.4,   4.3,  49.8],\n",
       "       [  1. , 296.4,  36.3, 100.9],\n",
       "       [  1. , 280.2,  10.1,  21.4],\n",
       "       [  1. , 187.9,  17.2,  17.9],\n",
       "       [  1. , 238.2,  34.3,   5.3],\n",
       "       [  1. , 137.9,  46.4,  59. ],\n",
       "       [  1. ,  25. ,  11. ,  29.7],\n",
       "       [  1. ,  90.4,   0.3,  23.2],\n",
       "       [  1. ,  13.1,   0.4,  25.6],\n",
       "       [  1. , 255.4,  26.9,   5.5],\n",
       "       [  1. , 225.8,   8.2,  56.5],\n",
       "       [  1. , 241.7,  38. ,  23.2],\n",
       "       [  1. , 175.7,  15.4,   2.4],\n",
       "       [  1. , 209.6,  20.6,  10.7],\n",
       "       [  1. ,  78.2,  46.8,  34.5],\n",
       "       [  1. ,  75.1,  35. ,  52.7],\n",
       "       [  1. , 139.2,  14.3,  25.6],\n",
       "       [  1. ,  76.4,   0.8,  14.8],\n",
       "       [  1. , 125.7,  36.9,  79.2],\n",
       "       [  1. ,  19.4,  16. ,  22.3],\n",
       "       [  1. , 141.3,  26.8,  46.2],\n",
       "       [  1. ,  18.8,  21.7,  50.4],\n",
       "       [  1. , 224. ,   2.4,  15.6],\n",
       "       [  1. , 123.1,  34.6,  12.4],\n",
       "       [  1. , 229.5,  32.3,  74.2],\n",
       "       [  1. ,  87.2,  11.8,  25.9],\n",
       "       [  1. ,   7.8,  38.9,  50.6],\n",
       "       [  1. ,  80.2,   0. ,   9.2],\n",
       "       [  1. , 220.3,  49. ,   3.2],\n",
       "       [  1. ,  59.6,  12. ,  43.1],\n",
       "       [  1. ,   0.7,  39.6,   8.7],\n",
       "       [  1. , 265.2,   2.9,  43. ],\n",
       "       [  1. ,   8.4,  27.2,   2.1],\n",
       "       [  1. , 219.8,  33.5,  45.1],\n",
       "       [  1. ,  36.9,  38.6,  65.6],\n",
       "       [  1. ,  48.3,  47. ,   8.5],\n",
       "       [  1. ,  25.6,  39. ,   9.3],\n",
       "       [  1. , 273.7,  28.9,  59.7],\n",
       "       [  1. ,  43. ,  25.9,  20.5],\n",
       "       [  1. , 184.9,  43.9,   1.7],\n",
       "       [  1. ,  73.4,  17. ,  12.9],\n",
       "       [  1. , 193.7,  35.4,  75.6],\n",
       "       [  1. , 220.5,  33.2,  37.9],\n",
       "       [  1. , 104.6,   5.7,  34.4],\n",
       "       [  1. ,  96.2,  14.8,  38.9],\n",
       "       [  1. , 140.3,   1.9,   9. ],\n",
       "       [  1. , 240.1,   7.3,   8.7],\n",
       "       [  1. , 243.2,  49. ,  44.3],\n",
       "       [  1. ,  38. ,  40.3,  11.9],\n",
       "       [  1. ,  44.7,  25.8,  20.6],\n",
       "       [  1. , 280.7,  13.9,  37. ],\n",
       "       [  1. , 121. ,   8.4,  48.7],\n",
       "       [  1. , 197.6,  23.3,  14.2],\n",
       "       [  1. , 171.3,  39.7,  37.7],\n",
       "       [  1. , 187.8,  21.1,   9.5],\n",
       "       [  1. ,   4.1,  11.6,   5.7],\n",
       "       [  1. ,  93.9,  43.5,  50.5],\n",
       "       [  1. , 149.8,   1.3,  24.3],\n",
       "       [  1. ,  11.7,  36.9,  45.2],\n",
       "       [  1. , 131.7,  18.4,  34.6],\n",
       "       [  1. , 172.5,  18.1,  30.7],\n",
       "       [  1. ,  85.7,  35.8,  49.3],\n",
       "       [  1. , 188.4,  18.1,  25.6],\n",
       "       [  1. , 163.5,  36.8,   7.4],\n",
       "       [  1. , 117.2,  14.7,   5.4],\n",
       "       [  1. , 234.5,   3.4,  84.8],\n",
       "       [  1. ,  17.9,  37.6,  21.6],\n",
       "       [  1. , 206.8,   5.2,  19.4],\n",
       "       [  1. , 215.4,  23.6,  57.6],\n",
       "       [  1. , 284.3,  10.6,   6.4],\n",
       "       [  1. ,  50. ,  11.6,  18.4],\n",
       "       [  1. , 164.5,  20.9,  47.4],\n",
       "       [  1. ,  19.6,  20.1,  17. ],\n",
       "       [  1. , 168.4,   7.1,  12.8],\n",
       "       [  1. , 222.4,   3.4,  13.1],\n",
       "       [  1. , 276.9,  48.9,  41.8],\n",
       "       [  1. , 248.4,  30.2,  20.3],\n",
       "       [  1. , 170.2,   7.8,  35.2],\n",
       "       [  1. , 276.7,   2.3,  23.7],\n",
       "       [  1. , 165.6,  10. ,  17.6],\n",
       "       [  1. , 156.6,   2.6,   8.3],\n",
       "       [  1. , 218.5,   5.4,  27.4],\n",
       "       [  1. ,  56.2,   5.7,  29.7],\n",
       "       [  1. , 287.6,  43. ,  71.8],\n",
       "       [  1. , 253.8,  21.3,  30. ],\n",
       "       [  1. , 205. ,  45.1,  19.6],\n",
       "       [  1. , 139.5,   2.1,  26.6],\n",
       "       [  1. , 191.1,  28.7,  18.2],\n",
       "       [  1. , 286. ,  13.9,   3.7],\n",
       "       [  1. ,  18.7,  12.1,  23.4],\n",
       "       [  1. ,  39.5,  41.1,   5.8],\n",
       "       [  1. ,  75.5,  10.8,   6. ],\n",
       "       [  1. ,  17.2,   4.1,  31.6],\n",
       "       [  1. , 166.8,  42. ,   3.6],\n",
       "       [  1. , 149.7,  35.6,   6. ],\n",
       "       [  1. ,  38.2,   3.7,  13.8],\n",
       "       [  1. ,  94.2,   4.9,   8.1],\n",
       "       [  1. , 177. ,   9.3,   6.4],\n",
       "       [  1. , 283.6,  42. ,  66.2],\n",
       "       [  1. , 232.1,   8.6,   8.7]])"
      ]
     },
     "execution_count": 62,
     "metadata": {},
     "output_type": "execute_result"
    }
   ],
   "source": [
    "# design matrix\n",
    "mlrfull.model.exog"
   ]
  },
  {
   "cell_type": "code",
   "execution_count": 63,
   "id": "c5b5da13",
   "metadata": {},
   "outputs": [
    {
     "data": {
      "text/plain": [
       "117"
      ]
     },
     "execution_count": 63,
     "metadata": {},
     "output_type": "execute_result"
    }
   ],
   "source": [
    "# If you want to locate the index of the suspicious outlier residual: type residname.idxmin()  \n",
    "# or, type: residname.idxmax() \n",
    "\n",
    "# If you want to the find the value of the suspicious outlier residual, type: residname[residname.idxmin()]\n",
    "\n",
    "# If you want to find the data point of the suspicious outlier residual, type: df.loc[residname.idxmin(),:]\n",
    "\n",
    "res32.idxmax()\n"
   ]
  },
  {
   "cell_type": "code",
   "execution_count": 64,
   "id": "53028b73",
   "metadata": {},
   "outputs": [
    {
     "data": {
      "text/plain": [
       "130"
      ]
     },
     "execution_count": 64,
     "metadata": {},
     "output_type": "execute_result"
    }
   ],
   "source": [
    "res32.idxmin()"
   ]
  },
  {
   "cell_type": "code",
   "execution_count": 65,
   "id": "f44a65ad",
   "metadata": {},
   "outputs": [
    {
     "data": {
      "text/plain": [
       "-8.827687101769548"
      ]
     },
     "execution_count": 65,
     "metadata": {},
     "output_type": "execute_result"
    }
   ],
   "source": [
    "res32[res32.idxmin()]"
   ]
  },
  {
   "cell_type": "code",
   "execution_count": 68,
   "id": "debd4b03",
   "metadata": {},
   "outputs": [
    {
     "data": {
      "text/plain": [
       "TV            0.7\n",
       "radio        39.6\n",
       "newspaper     8.7\n",
       "sales         1.6\n",
       "Name: 130, dtype: float64"
      ]
     },
     "execution_count": 68,
     "metadata": {},
     "output_type": "execute_result"
    }
   ],
   "source": [
    "df3a.loc[res32.idxmin(),:]"
   ]
  },
  {
   "cell_type": "code",
   "execution_count": 69,
   "id": "c6902c1f",
   "metadata": {},
   "outputs": [
    {
     "name": "stdout",
     "output_type": "stream",
     "text": [
      "     student_resid       unadj_p   bonf(p)\n",
      "130      -5.757983  3.267019e-08  0.000007\n"
     ]
    }
   ],
   "source": [
    "# Outlier test: p-value close to zero indicates outlier\n",
    "\n",
    "#ot = mlr.outlier_test()\n",
    "#print(ot.loc[ot[\"bonf(p)\"]<0.05])\n",
    "\n",
    "ot = mlrfull.outlier_test()\n",
    "print(ot.loc[ot[\"bonf(p)\"]<0.05])\n",
    "\n",
    "# student_resid refers to 'studentized residual', which is computed by the formula:\n",
    "#    studentized residual = residual / sqrt(MSE)\n",
    "#    If absolute value of studentized residual > 3, this would suggest that this residual point is an outlier.\n",
    "#    we look at the bonferroni p-value. If it is less than alpha, we reject H0.\n",
    "#    H0: Data point is not an outlier\n",
    "#    H1: Data point is an outlier\n"
   ]
  },
  {
   "cell_type": "code",
   "execution_count": 71,
   "id": "733dfb06",
   "metadata": {},
   "outputs": [
    {
     "name": "stdout",
     "output_type": "stream",
     "text": [
      "      TV  radio  newspaper  sales\n",
      "130  0.7   39.6        8.7    1.6\n"
     ]
    }
   ],
   "source": [
    "# Check Assumption: Independence\n",
    "# Plot the errors (residuals) according to its observed order. \n",
    "# There should not be any autocorrelation. The errors should\n",
    "\n",
    "#Try to also print the data values of the outlier observation \n",
    "\n",
    "print(df3a.loc[ot[\"bonf(p)\"]<0.05])"
   ]
  },
  {
   "cell_type": "code",
   "execution_count": 74,
   "id": "ee6771e2",
   "metadata": {},
   "outputs": [
    {
     "data": {
      "image/png": "[encoded data removed]",
      "text/plain": [
       "<Figure size 432x288 with 1 Axes>"
      ]
     },
     "metadata": {
      "needs_background": "light"
     },
     "output_type": "display_data"
    }
   ],
   "source": [
    "# Construct a line plot of residuals vs. observation order. Type: plt.plot(residname);\n",
    "plt.plot(res32)\n",
    "plt.xlabel('Observation Order')\n",
    "plt.ylabel('Residuals')\n",
    "plt.title ('Residual vs Observation Order');\n"
   ]
  },
  {
   "cell_type": "code",
   "execution_count": 73,
   "id": "7ee23a33",
   "metadata": {},
   "outputs": [
    {
     "data": {
      "text/plain": [
       "2.0836484052944066"
      ]
     },
     "execution_count": 73,
     "metadata": {},
     "output_type": "execute_result"
    }
   ],
   "source": [
    "# Perform the Durbin-Watson test on residuals. Type: sm.stats.durbin_watson(residname)\n",
    "sm.stats.durbin_watson(res32)\n",
    "\n",
    "# Output is 2 (rounded to nearest integer)\n",
    "# Using Rule of thumb, 2 is no autocorrelation"
   ]
  },
  {
   "cell_type": "code",
   "execution_count": 80,
   "id": "cbb1b9c9",
   "metadata": {},
   "outputs": [
    {
     "data": {
      "image/png": "[encoded data removed]",
      "text/plain": [
       "<Figure size 432x288 with 2 Axes>"
      ]
     },
     "metadata": {
      "needs_background": "light"
     },
     "output_type": "display_data"
    }
   ],
   "source": [
    "# Multicollinearity\n",
    "\n",
    "# Construct a heatmap to check correlations between predictors.\n",
    "sns.heatmap(df3a.corr(), annot=True, cmap='coolwarm');\n",
    "\n",
    "# exclude response, the predictors are blue.. indicating no correlation"
   ]
  },
  {
   "cell_type": "code",
   "execution_count": 75,
   "id": "8c6c52de",
   "metadata": {},
   "outputs": [
    {
     "data": {
      "text/plain": [
       "454.37490123426056"
      ]
     },
     "execution_count": 75,
     "metadata": {},
     "output_type": "execute_result"
    }
   ],
   "source": [
    "# To extract condition number, type: modelname.condition_number\n",
    "# Note the condition number include the response variable.. thus, it is inaccurate\n",
    "\n",
    "mlrfull.condition_number"
   ]
  },
  {
   "cell_type": "code",
   "execution_count": 79,
   "id": "8ce30c2d",
   "metadata": {},
   "outputs": [
    {
     "data": {
      "text/plain": [
       "12.623136926075038"
      ]
     },
     "execution_count": 79,
     "metadata": {},
     "output_type": "execute_result"
    }
   ],
   "source": [
    "# Remove the intercept and recompute the condition number for the correlation matrix only.\n",
    "\n",
    "#xdata = df.iloc[:,0:3].values\n",
    "# : - indicates all rows\n",
    "# 0:3 - indicates column 0, 1, 2\n",
    "\n",
    "#np.linalg.cond(xdata)\n",
    "\n",
    "xdata = df3a.iloc[:,0:3].values\n",
    "np.linalg.cond(xdata)\n",
    "\n",
    "# The recomputed condition number (with only predictors) is now < 30, suggesting no \n",
    "# multicollinearity problem"
   ]
  },
  {
   "cell_type": "code",
   "execution_count": 86,
   "id": "0f3edb10",
   "metadata": {},
   "outputs": [
    {
     "name": "stdout",
     "output_type": "stream",
     "text": [
      "TV 1.0046107849396502\n",
      "radio 1.1449519171055353\n",
      "newspaper 1.1451873787239288\n"
     ]
    }
   ],
   "source": [
    "# To compute VIF for each predictor, import function from library first:\n",
    "\n",
    "#from statsmodels.stats.outliers_influence import variance_inflation_factor as vif\n",
    "#print(modelname.model.exog_names[1], vif(modelname.model.exog,1))\n",
    "\n",
    "from statsmodels.stats.outliers_influence import variance_inflation_factor as vif\n",
    "print(mlrfull.model.exog_names[1], vif(mlrfull.model.exog,1))\n",
    "print(mlrfull.model.exog_names[2], vif(mlrfull.model.exog,2))\n",
    "print(mlrfull.model.exog_names[3], vif(mlrfull.model.exog,3))"
   ]
  },
  {
   "cell_type": "code",
   "execution_count": 87,
   "id": "f797992c",
   "metadata": {},
   "outputs": [
    {
     "data": {
      "text/plain": [
       "['Intercept', 'TV', 'radio', 'newspaper']"
      ]
     },
     "execution_count": 87,
     "metadata": {},
     "output_type": "execute_result"
    }
   ],
   "source": [
    "mlrfull.model.exog_names"
   ]
  },
  {
   "cell_type": "code",
   "execution_count": 104,
   "id": "159ec6b8",
   "metadata": {},
   "outputs": [
    {
     "name": "stdout",
     "output_type": "stream",
     "text": [
      "TV 1.0046107849396502\n",
      "radio 1.1449519171055353\n",
      "newspaper 1.1451873787239288\n"
     ]
    }
   ],
   "source": [
    "for i in range(3):\n",
    "    predictor = mlrfull.model.exog_names[i+1]\n",
    "    Vif = vif(mlrfull.model.exog,i+1)\n",
    "    print (predictor, Vif)"
   ]
  },
  {
   "cell_type": "code",
   "execution_count": null,
   "id": "cc0b3cfd",
   "metadata": {},
   "outputs": [],
   "source": [
    "# Split data set into 80:20.\n",
    "\n",
    "#from sklearn.model_selection import train_test_split\n",
    "#dftrain, dftest = train_test_split(df, test_size=0.2, random_state=12345)\n",
    "\n",
    "# If you want to confirm ratio splitted:\n",
    "\n",
    "#print( len(dftrain)/len(df) )\n",
    "#print( len(dftest)/len(df) )\n"
   ]
  },
  {
   "cell_type": "code",
   "execution_count": 94,
   "id": "ee70c961",
   "metadata": {},
   "outputs": [
    {
     "name": "stdout",
     "output_type": "stream",
     "text": [
      "0.8\n",
      "0.2\n"
     ]
    }
   ],
   "source": [
    "from sklearn.model_selection import train_test_split\n",
    "dftrain, dftest = train_test_split(df3a, test_size=0.2, random_state=12345)\n",
    "\n",
    "print( len(dftrain)/len(df3a) )\n",
    "print( len(dftest)/len(df3a) )\n"
   ]
  },
  {
   "cell_type": "code",
   "execution_count": 97,
   "id": "515e2924",
   "metadata": {},
   "outputs": [
    {
     "name": "stdout",
     "output_type": "stream",
     "text": [
      "0.785\n",
      "0.215\n"
     ]
    }
   ],
   "source": [
    "# Alternatively:\n",
    "\n",
    "#np.random.seed(12345)\n",
    "#msk = np.random.rand(len(df)) < 0.8\n",
    "#traindf = df[msk]\n",
    "#testdf = df[~msk]\n",
    "#print( len(traindf)/len(df) )\n",
    "#print( len(testdf)/len(df) )\n",
    "\n",
    "np.random.seed(12345)\n",
    "msk = np.random.rand(len(df3a)) < 0.8\n",
    "traindf = df3a[msk]\n",
    "testdf = df3a[~msk]\n",
    "\n",
    "print( len(traindf)/len(df3a) )\n",
    "print( len(testdf)/len(df3a) )"
   ]
  },
  {
   "cell_type": "code",
   "execution_count": 98,
   "id": "e9eb1839",
   "metadata": {},
   "outputs": [
    {
     "name": "stdout",
     "output_type": "stream",
     "text": [
      "                            OLS Regression Results                            \n",
      "==============================================================================\n",
      "Dep. Variable:                  sales   R-squared:                       0.909\n",
      "Model:                            OLS   Adj. R-squared:                  0.907\n",
      "Method:                 Least Squares   F-statistic:                     517.6\n",
      "Date:                Thu, 14 Jul 2022   Prob (F-statistic):           7.81e-81\n",
      "Time:                        11:48:02   Log-Likelihood:                -289.50\n",
      "No. Observations:                 160   AIC:                             587.0\n",
      "Df Residuals:                     156   BIC:                             599.3\n",
      "Df Model:                           3                                         \n",
      "Covariance Type:            nonrobust                                         \n",
      "==============================================================================\n",
      "                 coef    std err          t      P>|t|      [0.025      0.975]\n",
      "------------------------------------------------------------------------------\n",
      "Intercept      3.4274      0.327     10.496      0.000       2.782       4.072\n",
      "TV             0.0443      0.001     31.081      0.000       0.041       0.047\n",
      "radio          0.1900      0.009     21.964      0.000       0.173       0.207\n",
      "newspaper     -0.0087      0.006     -1.458      0.147      -0.020       0.003\n",
      "==============================================================================\n",
      "Omnibus:                       21.695   Durbin-Watson:                   1.739\n",
      "Prob(Omnibus):                  0.000   Jarque-Bera (JB):               25.999\n",
      "Skew:                          -0.902   Prob(JB):                     2.26e-06\n",
      "Kurtosis:                       3.802   Cond. No.                         478.\n",
      "==============================================================================\n",
      "\n",
      "Notes:\n",
      "[1] Standard Errors assume that the covariance matrix of the errors is correctly specified.\n",
      "\n",
      "MSE = 2.239306909727685\n"
     ]
    }
   ],
   "source": [
    "mod1 = ols(\"sales ~ TV + radio + newspaper\", dftrain).fit()\n",
    "print(mod1.summary())\n",
    "print('\\nMSE =', mod1.mse_resid)"
   ]
  },
  {
   "cell_type": "code",
   "execution_count": 99,
   "id": "c7bf7e7c",
   "metadata": {},
   "outputs": [],
   "source": [
    "from sklearn import metrics"
   ]
  },
  {
   "cell_type": "code",
   "execution_count": 102,
   "id": "4604af30",
   "metadata": {},
   "outputs": [
    {
     "name": "stdout",
     "output_type": "stream",
     "text": [
      "Rsq = 0.8610961612574065\n",
      "MSPE = 5.431275526078179\n"
     ]
    }
   ],
   "source": [
    "# Predict sales for testing data\n",
    "#ypred1 = mod1.predict(dftest)\n",
    "\n",
    "# Compute and print Rsq for testing data\n",
    "#print('Rsq =', metrics.r2_score(dftest.sales, ypred1))\n",
    "\n",
    "# Compute and print MSPE for testing data\n",
    "#print('MSPE =', metrics.mean_squared_error(dftest.sales, ypred1))\n",
    "\n",
    "ypred1 = mod1.predict(dftest)\n",
    "print('Rsq =', metrics.r2_score(dftest.sales, ypred1))\n",
    "print('MSPE =', metrics.mean_squared_error(dftest.sales, ypred1))"
   ]
  },
  {
   "cell_type": "code",
   "execution_count": 107,
   "id": "15b89b6d",
   "metadata": {},
   "outputs": [
    {
     "name": "stdout",
     "output_type": "stream",
     "text": [
      "                            OLS Regression Results                            \n",
      "==============================================================================\n",
      "Dep. Variable:                  sales   R-squared:                       0.909\n",
      "Model:                            OLS   Adj. R-squared:                  0.907\n",
      "Method:                 Least Squares   F-statistic:                     517.6\n",
      "Date:                Thu, 14 Jul 2022   Prob (F-statistic):           7.81e-81\n",
      "Time:                        19:58:07   Log-Likelihood:                -289.50\n",
      "No. Observations:                 160   AIC:                             587.0\n",
      "Df Residuals:                     156   BIC:                             599.3\n",
      "Df Model:                           3                                         \n",
      "Covariance Type:            nonrobust                                         \n",
      "==============================================================================\n",
      "                 coef    std err          t      P>|t|      [0.025      0.975]\n",
      "------------------------------------------------------------------------------\n",
      "Intercept      3.4274      0.327     10.496      0.000       2.782       4.072\n",
      "TV             0.0443      0.001     31.081      0.000       0.041       0.047\n",
      "radio          0.1900      0.009     21.964      0.000       0.173       0.207\n",
      "newspaper     -0.0087      0.006     -1.458      0.147      -0.020       0.003\n",
      "==============================================================================\n",
      "Omnibus:                       21.695   Durbin-Watson:                   1.739\n",
      "Prob(Omnibus):                  0.000   Jarque-Bera (JB):               25.999\n",
      "Skew:                          -0.902   Prob(JB):                     2.26e-06\n",
      "Kurtosis:                       3.802   Cond. No.                         478.\n",
      "==============================================================================\n",
      "\n",
      "Notes:\n",
      "[1] Standard Errors assume that the covariance matrix of the errors is correctly specified.\n",
      "\n",
      "MSE = 2.239306909727685\n"
     ]
    }
   ],
   "source": [
    "# Fit models 2, 3 & 4.  \n",
    "# Type your code here:\n",
    "\n",
    "mod2 = ols(\"sales ~ TV + radio\", dftrain).fit()\n",
    "print(mod1.summary())\n",
    "print('\\nMSE =', mod1.mse_resid)"
   ]
  },
  {
   "cell_type": "code",
   "execution_count": 108,
   "id": "456d9ea0",
   "metadata": {},
   "outputs": [
    {
     "name": "stdout",
     "output_type": "stream",
     "text": [
      "                            OLS Regression Results                            \n",
      "==============================================================================\n",
      "Dep. Variable:                  sales   R-squared:                       0.909\n",
      "Model:                            OLS   Adj. R-squared:                  0.907\n",
      "Method:                 Least Squares   F-statistic:                     517.6\n",
      "Date:                Thu, 14 Jul 2022   Prob (F-statistic):           7.81e-81\n",
      "Time:                        19:58:54   Log-Likelihood:                -289.50\n",
      "No. Observations:                 160   AIC:                             587.0\n",
      "Df Residuals:                     156   BIC:                             599.3\n",
      "Df Model:                           3                                         \n",
      "Covariance Type:            nonrobust                                         \n",
      "==============================================================================\n",
      "                 coef    std err          t      P>|t|      [0.025      0.975]\n",
      "------------------------------------------------------------------------------\n",
      "Intercept      3.4274      0.327     10.496      0.000       2.782       4.072\n",
      "TV             0.0443      0.001     31.081      0.000       0.041       0.047\n",
      "radio          0.1900      0.009     21.964      0.000       0.173       0.207\n",
      "newspaper     -0.0087      0.006     -1.458      0.147      -0.020       0.003\n",
      "==============================================================================\n",
      "Omnibus:                       21.695   Durbin-Watson:                   1.739\n",
      "Prob(Omnibus):                  0.000   Jarque-Bera (JB):               25.999\n",
      "Skew:                          -0.902   Prob(JB):                     2.26e-06\n",
      "Kurtosis:                       3.802   Cond. No.                         478.\n",
      "==============================================================================\n",
      "\n",
      "Notes:\n",
      "[1] Standard Errors assume that the covariance matrix of the errors is correctly specified.\n",
      "\n",
      "MSE = 2.239306909727685\n"
     ]
    }
   ],
   "source": [
    "mod3 = ols(\"sales ~ TV + newspaper\", dftrain).fit()\n",
    "print(mod1.summary())\n",
    "print('\\nMSE =', mod1.mse_resid)"
   ]
  },
  {
   "cell_type": "code",
   "execution_count": 109,
   "id": "179aea56",
   "metadata": {},
   "outputs": [
    {
     "name": "stdout",
     "output_type": "stream",
     "text": [
      "                            OLS Regression Results                            \n",
      "==============================================================================\n",
      "Dep. Variable:                  sales   R-squared:                       0.909\n",
      "Model:                            OLS   Adj. R-squared:                  0.907\n",
      "Method:                 Least Squares   F-statistic:                     517.6\n",
      "Date:                Thu, 14 Jul 2022   Prob (F-statistic):           7.81e-81\n",
      "Time:                        19:59:23   Log-Likelihood:                -289.50\n",
      "No. Observations:                 160   AIC:                             587.0\n",
      "Df Residuals:                     156   BIC:                             599.3\n",
      "Df Model:                           3                                         \n",
      "Covariance Type:            nonrobust                                         \n",
      "==============================================================================\n",
      "                 coef    std err          t      P>|t|      [0.025      0.975]\n",
      "------------------------------------------------------------------------------\n",
      "Intercept      3.4274      0.327     10.496      0.000       2.782       4.072\n",
      "TV             0.0443      0.001     31.081      0.000       0.041       0.047\n",
      "radio          0.1900      0.009     21.964      0.000       0.173       0.207\n",
      "newspaper     -0.0087      0.006     -1.458      0.147      -0.020       0.003\n",
      "==============================================================================\n",
      "Omnibus:                       21.695   Durbin-Watson:                   1.739\n",
      "Prob(Omnibus):                  0.000   Jarque-Bera (JB):               25.999\n",
      "Skew:                          -0.902   Prob(JB):                     2.26e-06\n",
      "Kurtosis:                       3.802   Cond. No.                         478.\n",
      "==============================================================================\n",
      "\n",
      "Notes:\n",
      "[1] Standard Errors assume that the covariance matrix of the errors is correctly specified.\n",
      "\n",
      "MSE = 2.239306909727685\n"
     ]
    }
   ],
   "source": [
    "mod4 = ols(\"sales ~ radio + newspaper\", dftrain).fit()\n",
    "print(mod1.summary())\n",
    "print('\\nMSE =', mod1.mse_resid)"
   ]
  },
  {
   "cell_type": "code",
   "execution_count": 110,
   "id": "fe8a9532",
   "metadata": {},
   "outputs": [
    {
     "name": "stdout",
     "output_type": "stream",
     "text": [
      "Rsq = 0.8675366471986018\n",
      "MSPE = 5.179446246303651\n"
     ]
    }
   ],
   "source": [
    "ypred2 = mod2.predict(dftest)\n",
    "print('Rsq =', metrics.r2_score(dftest.sales, ypred2))\n",
    "print('MSPE =', metrics.mean_squared_error(dftest.sales, ypred2))"
   ]
  },
  {
   "cell_type": "code",
   "execution_count": 111,
   "id": "6cec5ed5",
   "metadata": {},
   "outputs": [
    {
     "name": "stdout",
     "output_type": "stream",
     "text": [
      "Rsq = 0.6758393091759047\n",
      "MSPE = 12.67499906789568\n"
     ]
    }
   ],
   "source": [
    "ypred3 = mod3.predict(dftest)\n",
    "print('Rsq =', metrics.r2_score(dftest.sales, ypred3))\n",
    "print('MSPE =', metrics.mean_squared_error(dftest.sales, ypred3))"
   ]
  },
  {
   "cell_type": "code",
   "execution_count": 112,
   "id": "e2393f08",
   "metadata": {},
   "outputs": [
    {
     "name": "stdout",
     "output_type": "stream",
     "text": [
      "Rsq = 0.26731832322949167\n",
      "MSPE = 28.64856792636173\n"
     ]
    }
   ],
   "source": [
    "ypred4 = mod4.predict(dftest)\n",
    "print('Rsq =', metrics.r2_score(dftest.sales, ypred4))\n",
    "print('MSPE =', metrics.mean_squared_error(dftest.sales, ypred4))"
   ]
  },
  {
   "cell_type": "code",
   "execution_count": 105,
   "id": "2c5115d5",
   "metadata": {},
   "outputs": [],
   "source": [
    "# Backward Selection Algorithm\n",
    "# Instead of performing backward selection manually, the function coded below takes in the data and output the model at each step of the selection process.\n",
    "# After running the cell with the coded function, call on the function by typing: backward_selection(dataframe, responsename)\n",
    "# The default alpha is 5%, unless otherwise indicated.\n",
    "\n",
    "def backward_selection(df, response, alpha=0.05):\n",
    "    \"\"\"\n",
    "    df: Pandas DataFrame object\n",
    "        Input the data in Pandas DataFrame format \n",
    "    response: string\n",
    "        Input the response variable\n",
    "    alpha: float\n",
    "        Input the significance level alpha for t-test\n",
    "        Default value = 0.05\n",
    "    \"\"\"\n",
    "    # Extract all predictors from the data frame by dropping the response variable\n",
    "    predictors = df.columns.drop(response) \n",
    "    # Extract the response variable\n",
    "    y = df[response]\n",
    "    # Create empty list to store values \n",
    "    model, r2, mse, Pmax = [], [], [], []\n",
    "    # Create a while loop to continue performing backward selection as long as the number of predictors is at least one\n",
    "    while len(predictors)>0:\n",
    "        # Create the matrix X with a column of ones\n",
    "        X = df[predictors]\n",
    "        Xc = sm.add_constant(X)\n",
    "        # Fit the MLR model\n",
    "        mlr = sm.OLS(y,Xc).fit()\n",
    "        # Get the list of all parameters (including constant)\n",
    "        model.append(mlr.model.exog_names)\n",
    "        # Get the maximum p-values and append it to the list Pmax\n",
    "        pmax = mlr.pvalues.iloc[1:].max()\n",
    "        Pmax.append(round(pmax,4))\n",
    "        # Get the adjusted R2 value and append it to the list r2\n",
    "        r2.append(round(mlr.rsquared_adj,4))\n",
    "        # Get the MSE value and append it to the list mse\n",
    "        mse.append(round(mlr.mse_resid,4))\n",
    "        if pmax < alpha:\n",
    "            # If the maximum p-values is less than alpha, then break the while loop and we get the optimal model\n",
    "            break\n",
    "        else:\n",
    "            # Otherwise, get the predictor whose p-values is max\n",
    "            var = mlr.pvalues.iloc[1:].idxmax()\n",
    "            # Update the list of predictors by dropping the one that is not significant, then repeat the while loop\n",
    "            predictors = X.columns.drop(var)\n",
    "        # Create a dictionary consisting of the model, max p-values and adj R2, at each step of backward selection\n",
    "        d = dict({'Model':model,'MSE':mse,'adj-R2':r2,'Pval_max':Pmax})\n",
    "    return pd.DataFrame(d, columns=['Model','adj-R2','MSE','Pval_max']) # Return the dictionary as data frame object"
   ]
  },
  {
   "cell_type": "code",
   "execution_count": 106,
   "id": "d734683d",
   "metadata": {},
   "outputs": [
    {
     "name": "stderr",
     "output_type": "stream",
     "text": [
      "C:\\Users\\user\\anaconda3\\lib\\site-packages\\statsmodels\\tsa\\tsatools.py:142: FutureWarning: In a future version of pandas all arguments of concat except for the argument 'objs' will be keyword-only\n",
      "  x = pd.concat(x[::order], 1)\n",
      "C:\\Users\\user\\anaconda3\\lib\\site-packages\\statsmodels\\tsa\\tsatools.py:142: FutureWarning: In a future version of pandas all arguments of concat except for the argument 'objs' will be keyword-only\n",
      "  x = pd.concat(x[::order], 1)\n"
     ]
    },
    {
     "data": {
      "text/html": [
       "<div>\n",
       "<style scoped>\n",
       "    .dataframe tbody tr th:only-of-type {\n",
       "        vertical-align: middle;\n",
       "    }\n",
       "\n",
       "    .dataframe tbody tr th {\n",
       "        vertical-align: top;\n",
       "    }\n",
       "\n",
       "    .dataframe thead th {\n",
       "        text-align: right;\n",
       "    }\n",
       "</style>\n",
       "<table border=\"1\" class=\"dataframe\">\n",
       "  <thead>\n",
       "    <tr style=\"text-align: right;\">\n",
       "      <th></th>\n",
       "      <th>Model</th>\n",
       "      <th>adj-R2</th>\n",
       "      <th>MSE</th>\n",
       "      <th>Pval_max</th>\n",
       "    </tr>\n",
       "  </thead>\n",
       "  <tbody>\n",
       "    <tr>\n",
       "      <th>0</th>\n",
       "      <td>[const, TV, radio, newspaper]</td>\n",
       "      <td>0.8956</td>\n",
       "      <td>2.8409</td>\n",
       "      <td>0.8599</td>\n",
       "    </tr>\n",
       "    <tr>\n",
       "      <th>1</th>\n",
       "      <td>[const, TV, radio]</td>\n",
       "      <td>0.8962</td>\n",
       "      <td>2.8270</td>\n",
       "      <td>0.0000</td>\n",
       "    </tr>\n",
       "  </tbody>\n",
       "</table>\n",
       "</div>"
      ],
      "text/plain": [
       "                           Model  adj-R2     MSE  Pval_max\n",
       "0  [const, TV, radio, newspaper]  0.8956  2.8409    0.8599\n",
       "1             [const, TV, radio]  0.8962  2.8270    0.0000"
      ]
     },
     "execution_count": 106,
     "metadata": {},
     "output_type": "execute_result"
    }
   ],
   "source": [
    "# Apply the backward_selection function on the Advertising data set.\n",
    "#backward_selection(df, 'sales')\n",
    "backward_selection(df3a, 'sales')"
   ]
  },
  {
   "cell_type": "code",
   "execution_count": null,
   "id": "87a00cfb",
   "metadata": {},
   "outputs": [],
   "source": []
  }
 ],
 "metadata": {
  "kernelspec": {
   "display_name": "Python 3 (ipykernel)",
   "language": "python",
   "name": "python3"
  },
  "language_info": {
   "codemirror_mode": {
    "name": "ipython",
    "version": 3
   },
   "file_extension": ".py",
   "mimetype": "text/x-python",
   "name": "python",
   "nbconvert_exporter": "python",
   "pygments_lexer": "ipython3",
   "version": "3.9.7"
  }
 },
 "nbformat": 4,
 "nbformat_minor": 5
}
